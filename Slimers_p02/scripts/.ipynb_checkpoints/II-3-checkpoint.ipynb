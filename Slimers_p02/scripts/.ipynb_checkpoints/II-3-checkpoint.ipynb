{
 "cells": [
  {
   "cell_type": "code",
   "execution_count": 48,
   "metadata": {},
   "outputs": [],
   "source": [
    "def length_avg (file_name, total_sequence):\n",
    "    route = (\"../docs/\")\n",
    "    route = route + file_name\n",
    "    f = open(route, \"r\")\n",
    "    data = f.readlines()\n",
    "    \n",
    "    sequences_len = []\n",
    "    for line in data:\n",
    "        if line[0] != '>':\n",
    "            #Ignore the end of line character\n",
    "            sequences_len.append(len(line)-1)\n",
    "    f.close()\n",
    "    return sum(sequences_len)/total_sequence"
   ]
  },
  {
   "cell_type": "code",
   "execution_count": 49,
   "metadata": {},
   "outputs": [
    {
     "name": "stdout",
     "output_type": "stream",
     "text": [
      "150\n",
      "150\n"
     ]
    }
   ],
   "source": [
    "#Known file names\n",
    "one_fasta = \"ERR486827_1.fasta\"\n",
    "two_fasta = \"ERR486827_2.fasta\"\n",
    "#Known total number of sequences\n",
    "total_sequence = 398824\n",
    "\n",
    "#first param should be the interested file\n",
    "print (length_avg(one_fasta, total_sequence))\n",
    "print (length_avg(two_fasta, total_sequence))"
   ]
  }
 ],
 "metadata": {
  "kernelspec": {
   "display_name": "Python 3",
   "language": "python",
   "name": "python3"
  },
  "language_info": {
   "codemirror_mode": {
    "name": "ipython",
    "version": 2
   },
   "file_extension": ".py",
   "mimetype": "text/x-python",
   "name": "python",
   "nbconvert_exporter": "python",
   "pygments_lexer": "ipython2",
   "version": "2.7.17"
  }
 },
 "nbformat": 4,
 "nbformat_minor": 2
}
