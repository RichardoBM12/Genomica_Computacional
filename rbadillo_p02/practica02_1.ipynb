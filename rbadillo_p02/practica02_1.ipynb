{
  "nbformat": 4,
  "nbformat_minor": 0,
  "metadata": {
    "colab": {
      "name": "practica02_1.ipynb",
      "provenance": [],
      "collapsed_sections": []
    },
    "kernelspec": {
      "name": "python3",
      "display_name": "Python 3"
    }
  },
  "cells": [
    {
      "cell_type": "markdown",
      "metadata": {
        "id": "qVW-pzfWcGdQ"
      },
      "source": [
        "#**Genómica Computacional**"
      ]
    },
    {
      "cell_type": "markdown",
      "metadata": {
        "id": "dCBYagEmcmlD"
      },
      "source": [
        "##**Práctica 02 - Herramientas bioinformáticas (Python)**"
      ]
    },
    {
      "cell_type": "markdown",
      "metadata": {
        "id": "jyKZHKp0c3mx"
      },
      "source": [
        "1) Escribir un programa que me permita aplicar el 10% de descuento si la compra total es mayor a $100."
      ]
    },
    {
      "cell_type": "code",
      "metadata": {
        "id": "p3zP4bTUkzkW",
        "outputId": "4fa6e82f-3eca-463d-b932-4015c0f34183",
        "colab": {
          "base_uri": "https://localhost:8080/"
        }
      },
      "source": [
        "compra = float(input(\"Ingresa el precio de su compra:\"))\n",
        "if(compra > 100):\n",
        "  compra = compra - (compra * .10)\n",
        "  print(\"El precio total a pagar despues del descuento es: \", compra)\n",
        "else:\n",
        "  print(\"El precio total a pagar es: \",compra)"
      ],
      "execution_count": null,
      "outputs": [
        {
          "output_type": "stream",
          "text": [
            "Ingresa el precio de su compra:125\n",
            "El precio total a pagar despues del descuento es:  112.5\n"
          ],
          "name": "stdout"
        }
      ]
    },
    {
      "cell_type": "markdown",
      "metadata": {
        "id": "DA4XrTDpk03i"
      },
      "source": [
        "2) Sabiendo que la fórmula para obtener el área de un triángulo es a = (b x h) / 2, donde b es la longitud de la base del triángulo, y h es su altura. Escribir un programa que permita realizar el cálculo del área de un triángulo. Si el área contiene valores decimales, imprimir el resultado con dos dígitos."
      ]
    },
    {
      "cell_type": "code",
      "metadata": {
        "id": "SvAE4fFzcBCj",
        "outputId": "312d9aaf-06ed-4722-c03b-9d22eb2a1a77",
        "colab": {
          "base_uri": "https://localhost:8080/"
        }
      },
      "source": [
        "b = float(input(\"Ingrese la base del triangulo: \"))\n",
        "h = float(input(\"Ingrese la altura del triangulo: \"))\n",
        "a = (b*h)/2\n",
        "if(a.is_integer()):\n",
        "  print(\"El area del Triangulo es:\", a)\n",
        "else:\n",
        "  print(\"El area del Triangulo es: \", \"{0:.2f}\".format(a))5."
      ],
      "execution_count": null,
      "outputs": [
        {
          "output_type": "stream",
          "text": [
            "Ingrese la base del triangulo: 7.3\n",
            "Ingrese la altura del triangulo: 5.2\n",
            "El area del Triangulo es:  18.98\n"
          ],
          "name": "stdout"
        }
      ]
    },
    {
      "cell_type": "markdown",
      "metadata": {
        "id": "AfEThJPck5CI"
      },
      "source": [
        "\n",
        "3) La fórmula para el Índice de Masa Corportal es *IMC = kg/m2* donde kg es el peso de la persona en kilogramos y m2 es la altura en metros al cuadrado. Realizar un programa que calcula el IMC cuando se le provee el peso y la altura."
      ]
    },
    {
      "cell_type": "code",
      "metadata": {
        "id": "dH4MP_jkk5NJ",
        "outputId": "0824b62f-2df1-4c98-bd70-96413469e488",
        "colab": {
          "base_uri": "https://localhost:8080/"
        }
      },
      "source": [
        "peso = float(input(\"Ingrese su peso en kg: \"))\n",
        "altura = float(input(\"Ingrese su altura en m: \"))\n",
        "IMC = peso/(altura**2)\n",
        "print(IMC)"
      ],
      "execution_count": null,
      "outputs": [
        {
          "output_type": "stream",
          "text": [
            "Ingrese su peso en kg: 91\n",
            "Ingrese su altura en m: 1.80\n",
            "28.086419753086417\n"
          ],
          "name": "stdout"
        }
      ]
    }
  ]
}